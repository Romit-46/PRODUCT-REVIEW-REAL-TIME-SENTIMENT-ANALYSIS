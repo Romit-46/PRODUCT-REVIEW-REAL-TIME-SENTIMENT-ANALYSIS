{
 "cells": [
  {
   "cell_type": "code",
   "execution_count": null,
   "metadata": {
    "id": "3_uYWhbMTIRF"
   },
   "outputs": [],
   "source": [
    "#importing libraries\n",
    "import numpy as np\n",
    "import pandas as pd\n",
    "import matplotlib.pyplot as plt\n",
    "import seaborn as sns\n",
    "from nltk.stem.porter import PorterStemmer\n",
    "import seaborn as sns\n",
    "import string\n",
    "import re\n",
    "from nltk.corpus import stopwords\n",
    "from nltk.stem import WordNetLemmatizer\n",
    "from nltk.tokenize import word_tokenize\n",
    "%matplotlib inline\n",
    "\n",
    "import warnings #to remove warning from the notebook\n",
    "warnings.filterwarnings(action='ignore')"
   ]
  },
  {
   "cell_type": "code",
   "execution_count": null,
   "metadata": {
    "colab": {
     "base_uri": "https://localhost:8080/"
    },
    "id": "Qv6Kf1BBTnF6",
    "outputId": "78a1fd91-3db1-46d6-d17a-0ab9f05c1c5b"
   },
   "outputs": [
    {
     "name": "stdout",
     "output_type": "stream",
     "text": [
      "[nltk_data] Downloading package stopwords to /root/nltk_data...\n",
      "[nltk_data]   Package stopwords is already up-to-date!\n"
     ]
    },
    {
     "data": {
      "text/plain": [
       "True"
      ]
     },
     "execution_count": 52,
     "metadata": {},
     "output_type": "execute_result"
    }
   ],
   "source": [
    "import nltk\n",
    "nltk.download('stopwords')"
   ]
  },
  {
   "cell_type": "code",
   "execution_count": null,
   "metadata": {
    "colab": {
     "base_uri": "https://localhost:8080/"
    },
    "id": "Et3LzTugTIRS",
    "outputId": "92a983ef-3564-4343-81e3-e2c323baadd0"
   },
   "outputs": [
    {
     "name": "stdout",
     "output_type": "stream",
     "text": [
      "[nltk_data] Downloading package wordnet to /root/nltk_data...\n",
      "[nltk_data]   Package wordnet is already up-to-date!\n"
     ]
    },
    {
     "data": {
      "text/plain": [
       "True"
      ]
     },
     "execution_count": 53,
     "metadata": {},
     "output_type": "execute_result"
    }
   ],
   "source": [
    "import nltk\n",
    "nltk.download('wordnet')"
   ]
  },
  {
   "cell_type": "code",
   "execution_count": null,
   "metadata": {
    "colab": {
     "base_uri": "https://localhost:8080/"
    },
    "id": "OSvELFlTTx5V",
    "outputId": "e788c5e8-ceae-49a9-a59e-fcaf9f9bb38e"
   },
   "outputs": [
    {
     "name": "stdout",
     "output_type": "stream",
     "text": [
      "[nltk_data] Downloading package punkt to /root/nltk_data...\n",
      "[nltk_data]   Package punkt is already up-to-date!\n"
     ]
    },
    {
     "data": {
      "text/plain": [
       "True"
      ]
     },
     "execution_count": 54,
     "metadata": {},
     "output_type": "execute_result"
    }
   ],
   "source": [
    "import nltk\n",
    "nltk.download('punkt')"
   ]
  },
  {
   "cell_type": "code",
   "execution_count": null,
   "metadata": {
    "colab": {
     "base_uri": "https://localhost:8080/"
    },
    "id": "PKZS6cc1T9Ag",
    "outputId": "7b8aa63b-b889-48ce-e5e4-0ab73c2584a1"
   },
   "outputs": [
    {
     "name": "stdout",
     "output_type": "stream",
     "text": [
      "[nltk_data] Downloading package averaged_perceptron_tagger to\n",
      "[nltk_data]     /root/nltk_data...\n",
      "[nltk_data]   Package averaged_perceptron_tagger is already up-to-\n",
      "[nltk_data]       date!\n"
     ]
    },
    {
     "data": {
      "text/plain": [
       "True"
      ]
     },
     "execution_count": 55,
     "metadata": {},
     "output_type": "execute_result"
    }
   ],
   "source": [
    "import nltk\n",
    "nltk.download('averaged_perceptron_tagger')"
   ]
  },
  {
   "cell_type": "code",
   "execution_count": null,
   "metadata": {
    "colab": {
     "base_uri": "https://localhost:8080/",
     "height": 204
    },
    "id": "AtkXfU2zTIRL",
    "outputId": "bad529f7-ee06-4a7f-dab8-df62830c071e"
   },
   "outputs": [
    {
     "data": {
      "text/html": [
       "<div>\n",
       "<style scoped>\n",
       "    .dataframe tbody tr th:only-of-type {\n",
       "        vertical-align: middle;\n",
       "    }\n",
       "\n",
       "    .dataframe tbody tr th {\n",
       "        vertical-align: top;\n",
       "    }\n",
       "\n",
       "    .dataframe thead th {\n",
       "        text-align: right;\n",
       "    }\n",
       "</style>\n",
       "<table border=\"1\" class=\"dataframe\">\n",
       "  <thead>\n",
       "    <tr style=\"text-align: right;\">\n",
       "      <th></th>\n",
       "      <th>overall</th>\n",
       "      <th>vote</th>\n",
       "      <th>reviewTime</th>\n",
       "      <th>reviewText</th>\n",
       "      <th>summary</th>\n",
       "    </tr>\n",
       "  </thead>\n",
       "  <tbody>\n",
       "    <tr>\n",
       "      <th>0</th>\n",
       "      <td>2</td>\n",
       "      <td>0</td>\n",
       "      <td>2010-02-10</td>\n",
       "      <td>Tech support is the worst</td>\n",
       "      <td>1265760000</td>\n",
       "    </tr>\n",
       "    <tr>\n",
       "      <th>1</th>\n",
       "      <td>2</td>\n",
       "      <td>0</td>\n",
       "      <td>2016-10-24</td>\n",
       "      <td>Screws were missing from the bracket and beaut...</td>\n",
       "      <td>Spend a little more and get much better.</td>\n",
       "    </tr>\n",
       "    <tr>\n",
       "      <th>2</th>\n",
       "      <td>1</td>\n",
       "      <td>0</td>\n",
       "      <td>2017-07-10</td>\n",
       "      <td>Trouble connecting and staying connected via b...</td>\n",
       "      <td>1499644800</td>\n",
       "    </tr>\n",
       "    <tr>\n",
       "      <th>3</th>\n",
       "      <td>4</td>\n",
       "      <td>5</td>\n",
       "      <td>2013-05-02</td>\n",
       "      <td>I purchased this unit for our RV to replace an...</td>\n",
       "      <td>Receiver Offers a Lot of Flexibility &amp; Complexity</td>\n",
       "    </tr>\n",
       "    <tr>\n",
       "      <th>4</th>\n",
       "      <td>3</td>\n",
       "      <td>0</td>\n",
       "      <td>2013-01-04</td>\n",
       "      <td>It works.  Nuff said but the review requires 1...</td>\n",
       "      <td>It's a cable</td>\n",
       "    </tr>\n",
       "  </tbody>\n",
       "</table>\n",
       "</div>"
      ],
      "text/plain": [
       "   overall  ...                                            summary\n",
       "0        2  ...                                         1265760000\n",
       "1        2  ...           Spend a little more and get much better.\n",
       "2        1  ...                                         1499644800\n",
       "3        4  ...  Receiver Offers a Lot of Flexibility & Complexity\n",
       "4        3  ...                                       It's a cable\n",
       "\n",
       "[5 rows x 5 columns]"
      ]
     },
     "execution_count": 56,
     "metadata": {},
     "output_type": "execute_result"
    }
   ],
   "source": [
    "df=pd.read_csv('electronics_sample.csv')\n",
    "df.head()"
   ]
  },
  {
   "cell_type": "code",
   "execution_count": null,
   "metadata": {
    "colab": {
     "base_uri": "https://localhost:8080/",
     "height": 359
    },
    "id": "WWibdekbTIRM",
    "outputId": "b53c248a-dc2b-4860-ed81-43241d038578"
   },
   "outputs": [
    {
     "data": {
      "text/html": [
       "<div>\n",
       "<style scoped>\n",
       "    .dataframe tbody tr th:only-of-type {\n",
       "        vertical-align: middle;\n",
       "    }\n",
       "\n",
       "    .dataframe tbody tr th {\n",
       "        vertical-align: top;\n",
       "    }\n",
       "\n",
       "    .dataframe thead th {\n",
       "        text-align: right;\n",
       "    }\n",
       "</style>\n",
       "<table border=\"1\" class=\"dataframe\">\n",
       "  <thead>\n",
       "    <tr style=\"text-align: right;\">\n",
       "      <th></th>\n",
       "      <th>overall</th>\n",
       "      <th>vote</th>\n",
       "      <th>reviewTime</th>\n",
       "      <th>reviewText</th>\n",
       "      <th>summary</th>\n",
       "    </tr>\n",
       "  </thead>\n",
       "  <tbody>\n",
       "    <tr>\n",
       "      <th>0</th>\n",
       "      <td>2</td>\n",
       "      <td>0</td>\n",
       "      <td>2010-02-10</td>\n",
       "      <td>Tech support is the worst</td>\n",
       "      <td>1265760000</td>\n",
       "    </tr>\n",
       "    <tr>\n",
       "      <th>1</th>\n",
       "      <td>2</td>\n",
       "      <td>0</td>\n",
       "      <td>2016-10-24</td>\n",
       "      <td>Screws were missing from the bracket and beaut...</td>\n",
       "      <td>Spend a little more and get much better.</td>\n",
       "    </tr>\n",
       "    <tr>\n",
       "      <th>2</th>\n",
       "      <td>1</td>\n",
       "      <td>0</td>\n",
       "      <td>2017-07-10</td>\n",
       "      <td>Trouble connecting and staying connected via b...</td>\n",
       "      <td>1499644800</td>\n",
       "    </tr>\n",
       "    <tr>\n",
       "      <th>3</th>\n",
       "      <td>4</td>\n",
       "      <td>5</td>\n",
       "      <td>2013-05-02</td>\n",
       "      <td>I purchased this unit for our RV to replace an...</td>\n",
       "      <td>Receiver Offers a Lot of Flexibility &amp; Complexity</td>\n",
       "    </tr>\n",
       "    <tr>\n",
       "      <th>4</th>\n",
       "      <td>3</td>\n",
       "      <td>0</td>\n",
       "      <td>2013-01-04</td>\n",
       "      <td>It works.  Nuff said but the review requires 1...</td>\n",
       "      <td>It's a cable</td>\n",
       "    </tr>\n",
       "    <tr>\n",
       "      <th>5</th>\n",
       "      <td>1</td>\n",
       "      <td>2</td>\n",
       "      <td>2015-10-26</td>\n",
       "      <td>I bought this and a viper alarm for my civic a...</td>\n",
       "      <td>No good/ Defective</td>\n",
       "    </tr>\n",
       "    <tr>\n",
       "      <th>6</th>\n",
       "      <td>4</td>\n",
       "      <td>6</td>\n",
       "      <td>2008-12-21</td>\n",
       "      <td>I rescue cats, and I have one that will have t...</td>\n",
       "      <td>A Different Kind of Strong Odor, But it Masks ...</td>\n",
       "    </tr>\n",
       "    <tr>\n",
       "      <th>7</th>\n",
       "      <td>1</td>\n",
       "      <td>0</td>\n",
       "      <td>2009-07-08</td>\n",
       "      <td>I purchased 6 of these in 2007; all were ~DOA....</td>\n",
       "      <td>6 of 6 cards had only 1 good port</td>\n",
       "    </tr>\n",
       "    <tr>\n",
       "      <th>8</th>\n",
       "      <td>3</td>\n",
       "      <td>0</td>\n",
       "      <td>2017-06-16</td>\n",
       "      <td>Nice cover because something is better than no...</td>\n",
       "      <td>Nice cover!</td>\n",
       "    </tr>\n",
       "    <tr>\n",
       "      <th>9</th>\n",
       "      <td>2</td>\n",
       "      <td>0</td>\n",
       "      <td>2017-09-05</td>\n",
       "      <td>Less than happy</td>\n",
       "      <td>1504569600</td>\n",
       "    </tr>\n",
       "  </tbody>\n",
       "</table>\n",
       "</div>"
      ],
      "text/plain": [
       "   overall  ...                                            summary\n",
       "0        2  ...                                         1265760000\n",
       "1        2  ...           Spend a little more and get much better.\n",
       "2        1  ...                                         1499644800\n",
       "3        4  ...  Receiver Offers a Lot of Flexibility & Complexity\n",
       "4        3  ...                                       It's a cable\n",
       "5        1  ...                                 No good/ Defective\n",
       "6        4  ...  A Different Kind of Strong Odor, But it Masks ...\n",
       "7        1  ...                  6 of 6 cards had only 1 good port\n",
       "8        3  ...                                        Nice cover!\n",
       "9        2  ...                                         1504569600\n",
       "\n",
       "[10 rows x 5 columns]"
      ]
     },
     "execution_count": 57,
     "metadata": {},
     "output_type": "execute_result"
    }
   ],
   "source": [
    "df.head(n=10)"
   ]
  },
  {
   "cell_type": "code",
   "execution_count": null,
   "metadata": {
    "colab": {
     "base_uri": "https://localhost:8080/",
     "height": 296
    },
    "id": "d81fHojmTIRN",
    "outputId": "a9d9f3d1-5b2d-4ea0-fb31-9b7291293329"
   },
   "outputs": [
    {
     "data": {
      "text/plain": [
       "<matplotlib.axes._subplots.AxesSubplot at 0x7f9bb20fd250>"
      ]
     },
     "execution_count": 58,
     "metadata": {},
     "output_type": "execute_result"
    },
    {
     "data": {
      "image/png": "[encoded data removed]",
      "text/plain": [
       "<Figure size 432x288 with 1 Axes>"
      ]
     },
     "metadata": {
      "needs_background": "light"
     },
     "output_type": "display_data"
    }
   ],
   "source": [
    "sns.countplot(x=df['overall'])"
   ]
  },
  {
   "cell_type": "code",
   "execution_count": null,
   "metadata": {
    "colab": {
     "base_uri": "https://localhost:8080/",
     "height": 359
    },
    "id": "m94FGjMqTIRN",
    "outputId": "320c8119-ff49-402b-9655-47c8bb9838f4"
   },
   "outputs": [
    {
     "data": {
      "text/html": [
       "<div>\n",
       "<style scoped>\n",
       "    .dataframe tbody tr th:only-of-type {\n",
       "        vertical-align: middle;\n",
       "    }\n",
       "\n",
       "    .dataframe tbody tr th {\n",
       "        vertical-align: top;\n",
       "    }\n",
       "\n",
       "    .dataframe thead th {\n",
       "        text-align: right;\n",
       "    }\n",
       "</style>\n",
       "<table border=\"1\" class=\"dataframe\">\n",
       "  <thead>\n",
       "    <tr style=\"text-align: right;\">\n",
       "      <th></th>\n",
       "      <th>overall</th>\n",
       "      <th>vote</th>\n",
       "      <th>reviewTime</th>\n",
       "      <th>reviewText</th>\n",
       "      <th>summary</th>\n",
       "    </tr>\n",
       "  </thead>\n",
       "  <tbody>\n",
       "    <tr>\n",
       "      <th>19799</th>\n",
       "      <td>5</td>\n",
       "      <td>0</td>\n",
       "      <td>2016-09-10</td>\n",
       "      <td>Enough power to charge most any device to capa...</td>\n",
       "      <td>Five Stars</td>\n",
       "    </tr>\n",
       "    <tr>\n",
       "      <th>19800</th>\n",
       "      <td>1</td>\n",
       "      <td>0</td>\n",
       "      <td>2015-06-17</td>\n",
       "      <td>Not recognized after reboot/restart</td>\n",
       "      <td>1434499200</td>\n",
       "    </tr>\n",
       "    <tr>\n",
       "      <th>19801</th>\n",
       "      <td>5</td>\n",
       "      <td>0</td>\n",
       "      <td>2011-06-26</td>\n",
       "      <td>Having just finished wall mounting four speake...</td>\n",
       "      <td>GREAT PRODUCT  $2.50 PER MOUNT</td>\n",
       "    </tr>\n",
       "    <tr>\n",
       "      <th>19802</th>\n",
       "      <td>3</td>\n",
       "      <td>0</td>\n",
       "      <td>2013-05-11</td>\n",
       "      <td>There are several kinds of plugs for Firewire....</td>\n",
       "      <td>This is not the correct adapter for a MacBook Pro</td>\n",
       "    </tr>\n",
       "    <tr>\n",
       "      <th>19803</th>\n",
       "      <td>5</td>\n",
       "      <td>0</td>\n",
       "      <td>2010-01-03</td>\n",
       "      <td>Cmara digital</td>\n",
       "      <td>1262476800</td>\n",
       "    </tr>\n",
       "    <tr>\n",
       "      <th>19804</th>\n",
       "      <td>3</td>\n",
       "      <td>0</td>\n",
       "      <td>2014-11-11</td>\n",
       "      <td>rendering lens useless in darkness</td>\n",
       "      <td>1415664000</td>\n",
       "    </tr>\n",
       "    <tr>\n",
       "      <th>19805</th>\n",
       "      <td>1</td>\n",
       "      <td>0</td>\n",
       "      <td>2015-03-14</td>\n",
       "      <td>One Star</td>\n",
       "      <td>1426291200</td>\n",
       "    </tr>\n",
       "    <tr>\n",
       "      <th>19806</th>\n",
       "      <td>4</td>\n",
       "      <td>0</td>\n",
       "      <td>2009-03-27</td>\n",
       "      <td>Decent Cable for the Money</td>\n",
       "      <td>1238112000</td>\n",
       "    </tr>\n",
       "    <tr>\n",
       "      <th>19807</th>\n",
       "      <td>3</td>\n",
       "      <td>2</td>\n",
       "      <td>2014-06-06</td>\n",
       "      <td>OK drop protection for reasonable price.</td>\n",
       "      <td>1402012800</td>\n",
       "    </tr>\n",
       "    <tr>\n",
       "      <th>19808</th>\n",
       "      <td>5</td>\n",
       "      <td>0</td>\n",
       "      <td>2016-06-20</td>\n",
       "      <td>Cheap and work great</td>\n",
       "      <td>1466380800</td>\n",
       "    </tr>\n",
       "  </tbody>\n",
       "</table>\n",
       "</div>"
      ],
      "text/plain": [
       "       overall  ...                                            summary\n",
       "19799        5  ...                                         Five Stars\n",
       "19800        1  ...                                         1434499200\n",
       "19801        5  ...                     GREAT PRODUCT  $2.50 PER MOUNT\n",
       "19802        3  ...  This is not the correct adapter for a MacBook Pro\n",
       "19803        5  ...                                         1262476800\n",
       "19804        3  ...                                         1415664000\n",
       "19805        1  ...                                         1426291200\n",
       "19806        4  ...                                         1238112000\n",
       "19807        3  ...                                         1402012800\n",
       "19808        5  ...                                         1466380800\n",
       "\n",
       "[10 rows x 5 columns]"
      ]
     },
     "execution_count": 59,
     "metadata": {},
     "output_type": "execute_result"
    }
   ],
   "source": [
    "df.tail(n=10)"
   ]
  },
  {
   "cell_type": "code",
   "execution_count": null,
   "metadata": {
    "colab": {
     "base_uri": "https://localhost:8080/"
    },
    "id": "pcYHuG7dTIRO",
    "outputId": "47a9ab62-9bff-45fb-ea31-1bf4d21741af"
   },
   "outputs": [
    {
     "name": "stdout",
     "output_type": "stream",
     "text": [
      "<class 'pandas.core.frame.DataFrame'>\n",
      "RangeIndex: 19809 entries, 0 to 19808\n",
      "Data columns (total 5 columns):\n",
      " #   Column      Non-Null Count  Dtype \n",
      "---  ------      --------------  ----- \n",
      " 0   overall     19809 non-null  int64 \n",
      " 1   vote        19809 non-null  int64 \n",
      " 2   reviewTime  19809 non-null  object\n",
      " 3   reviewText  19808 non-null  object\n",
      " 4   summary     19809 non-null  object\n",
      "dtypes: int64(2), object(3)\n",
      "memory usage: 773.9+ KB\n"
     ]
    }
   ],
   "source": [
    "df.info()"
   ]
  },
  {
   "cell_type": "code",
   "execution_count": null,
   "metadata": {
    "colab": {
     "base_uri": "https://localhost:8080/"
    },
    "id": "yMfe6PAyTIRO",
    "outputId": "736aaabd-b619-4316-de18-65fd14cb9b7f"
   },
   "outputs": [
    {
     "data": {
      "text/plain": [
       "(19809, 5)"
      ]
     },
     "execution_count": 61,
     "metadata": {},
     "output_type": "execute_result"
    }
   ],
   "source": [
    "df.shape\n"
   ]
  },
  {
   "cell_type": "code",
   "execution_count": null,
   "metadata": {
    "id": "w6af-nScTIRP"
   },
   "outputs": [],
   "source": [
    "df1=df[['overall','reviewText']]"
   ]
  },
  {
   "cell_type": "code",
   "execution_count": null,
   "metadata": {
    "colab": {
     "base_uri": "https://localhost:8080/",
     "height": 204
    },
    "id": "SAlWQCsFTIRQ",
    "outputId": "99ed7261-ad34-4ac2-dacf-4c063fd77640"
   },
   "outputs": [
    {
     "data": {
      "text/html": [
       "<div>\n",
       "<style scoped>\n",
       "    .dataframe tbody tr th:only-of-type {\n",
       "        vertical-align: middle;\n",
       "    }\n",
       "\n",
       "    .dataframe tbody tr th {\n",
       "        vertical-align: top;\n",
       "    }\n",
       "\n",
       "    .dataframe thead th {\n",
       "        text-align: right;\n",
       "    }\n",
       "</style>\n",
       "<table border=\"1\" class=\"dataframe\">\n",
       "  <thead>\n",
       "    <tr style=\"text-align: right;\">\n",
       "      <th></th>\n",
       "      <th>overall</th>\n",
       "      <th>reviewText</th>\n",
       "    </tr>\n",
       "  </thead>\n",
       "  <tbody>\n",
       "    <tr>\n",
       "      <th>0</th>\n",
       "      <td>2</td>\n",
       "      <td>Tech support is the worst</td>\n",
       "    </tr>\n",
       "    <tr>\n",
       "      <th>1</th>\n",
       "      <td>2</td>\n",
       "      <td>Screws were missing from the bracket and beaut...</td>\n",
       "    </tr>\n",
       "    <tr>\n",
       "      <th>2</th>\n",
       "      <td>1</td>\n",
       "      <td>Trouble connecting and staying connected via b...</td>\n",
       "    </tr>\n",
       "    <tr>\n",
       "      <th>3</th>\n",
       "      <td>4</td>\n",
       "      <td>I purchased this unit for our RV to replace an...</td>\n",
       "    </tr>\n",
       "    <tr>\n",
       "      <th>4</th>\n",
       "      <td>3</td>\n",
       "      <td>It works.  Nuff said but the review requires 1...</td>\n",
       "    </tr>\n",
       "  </tbody>\n",
       "</table>\n",
       "</div>"
      ],
      "text/plain": [
       "   overall                                         reviewText\n",
       "0        2                          Tech support is the worst\n",
       "1        2  Screws were missing from the bracket and beaut...\n",
       "2        1  Trouble connecting and staying connected via b...\n",
       "3        4  I purchased this unit for our RV to replace an...\n",
       "4        3  It works.  Nuff said but the review requires 1..."
      ]
     },
     "execution_count": 63,
     "metadata": {},
     "output_type": "execute_result"
    }
   ],
   "source": [
    "df1.head()"
   ]
  },
  {
   "cell_type": "code",
   "execution_count": null,
   "metadata": {
    "colab": {
     "base_uri": "https://localhost:8080/"
    },
    "id": "PppUFqVRTIRR",
    "outputId": "198a3f1c-2261-42cd-8335-325156294853"
   },
   "outputs": [
    {
     "data": {
      "text/plain": [
       "overall       0\n",
       "reviewText    1\n",
       "dtype: int64"
      ]
     },
     "execution_count": 64,
     "metadata": {},
     "output_type": "execute_result"
    }
   ],
   "source": [
    "df1.isna().sum()"
   ]
  },
  {
   "cell_type": "code",
   "execution_count": null,
   "metadata": {
    "id": "FV593cZDTIRR"
   },
   "outputs": [],
   "source": [
    "df1 = df1.dropna()"
   ]
  },
  {
   "cell_type": "code",
   "execution_count": null,
   "metadata": {
    "colab": {
     "base_uri": "https://localhost:8080/"
    },
    "id": "v6_CL6b_TIRR",
    "outputId": "c0a5fd02-44fc-4967-ff2f-a05bffbce7d5"
   },
   "outputs": [
    {
     "data": {
      "text/plain": [
       "overall       0\n",
       "reviewText    0\n",
       "dtype: int64"
      ]
     },
     "execution_count": 66,
     "metadata": {},
     "output_type": "execute_result"
    }
   ],
   "source": [
    "df1.isna().sum()"
   ]
  },
  {
   "cell_type": "code",
   "execution_count": null,
   "metadata": {
    "id": "6oUJr52FTIRS"
   },
   "outputs": [],
   "source": [
    "df1=df1.astype(str)"
   ]
  },
  {
   "cell_type": "code",
   "execution_count": null,
   "metadata": {
    "id": "55fv927fTIRT"
   },
   "outputs": [],
   "source": [
    "def rem(text):\n",
    "    tn= \"\".join([char for char in text if char not in string.punctuation])\n",
    "    return tn\n",
    "    \n",
    "\n",
    "df1['clean']=df1['reviewText'].apply(lambda x: rem(x))"
   ]
  },
  {
   "cell_type": "code",
   "execution_count": null,
   "metadata": {
    "colab": {
     "base_uri": "https://localhost:8080/",
     "height": 204
    },
    "id": "zsa-gZSbTIRT",
    "outputId": "f8799114-3a21-4dc6-cf1b-87a080671129"
   },
   "outputs": [
    {
     "data": {
      "text/html": [
       "<div>\n",
       "<style scoped>\n",
       "    .dataframe tbody tr th:only-of-type {\n",
       "        vertical-align: middle;\n",
       "    }\n",
       "\n",
       "    .dataframe tbody tr th {\n",
       "        vertical-align: top;\n",
       "    }\n",
       "\n",
       "    .dataframe thead th {\n",
       "        text-align: right;\n",
       "    }\n",
       "</style>\n",
       "<table border=\"1\" class=\"dataframe\">\n",
       "  <thead>\n",
       "    <tr style=\"text-align: right;\">\n",
       "      <th></th>\n",
       "      <th>overall</th>\n",
       "      <th>reviewText</th>\n",
       "      <th>clean</th>\n",
       "    </tr>\n",
       "  </thead>\n",
       "  <tbody>\n",
       "    <tr>\n",
       "      <th>0</th>\n",
       "      <td>2</td>\n",
       "      <td>Tech support is the worst</td>\n",
       "      <td>Tech support is the worst</td>\n",
       "    </tr>\n",
       "    <tr>\n",
       "      <th>1</th>\n",
       "      <td>2</td>\n",
       "      <td>Screws were missing from the bracket and beaut...</td>\n",
       "      <td>Screws were missing from the bracket and beaut...</td>\n",
       "    </tr>\n",
       "    <tr>\n",
       "      <th>2</th>\n",
       "      <td>1</td>\n",
       "      <td>Trouble connecting and staying connected via b...</td>\n",
       "      <td>Trouble connecting and staying connected via b...</td>\n",
       "    </tr>\n",
       "    <tr>\n",
       "      <th>3</th>\n",
       "      <td>4</td>\n",
       "      <td>I purchased this unit for our RV to replace an...</td>\n",
       "      <td>I purchased this unit for our RV to replace an...</td>\n",
       "    </tr>\n",
       "    <tr>\n",
       "      <th>4</th>\n",
       "      <td>3</td>\n",
       "      <td>It works.  Nuff said but the review requires 1...</td>\n",
       "      <td>It works  Nuff said but the review requires 16...</td>\n",
       "    </tr>\n",
       "  </tbody>\n",
       "</table>\n",
       "</div>"
      ],
      "text/plain": [
       "  overall  ...                                              clean\n",
       "0       2  ...                          Tech support is the worst\n",
       "1       2  ...  Screws were missing from the bracket and beaut...\n",
       "2       1  ...  Trouble connecting and staying connected via b...\n",
       "3       4  ...  I purchased this unit for our RV to replace an...\n",
       "4       3  ...  It works  Nuff said but the review requires 16...\n",
       "\n",
       "[5 rows x 3 columns]"
      ]
     },
     "execution_count": 69,
     "metadata": {},
     "output_type": "execute_result"
    }
   ],
   "source": [
    "df1.head()"
   ]
  },
  {
   "cell_type": "code",
   "execution_count": null,
   "metadata": {
    "id": "c8XbNo7pESIV"
   },
   "outputs": [],
   "source": [
    "from nltk.corpus import wordnet\n",
    "def get_wordnet_pos(word):\n",
    "    \"\"\"Map POS tag to first character lemmatize() accepts\"\"\"\n",
    "    tag = nltk.pos_tag([word])[0][1][0].upper()\n",
    "    tag_dict = {\"J\": wordnet.ADJ,\n",
    "                \"N\": wordnet.NOUN,\n",
    "                \"V\": wordnet.VERB,\n",
    "                \"R\": wordnet.ADV}\n",
    "\n",
    "    return tag_dict.get(tag, wordnet.NOUN)\n",
    "\n",
    "lemmatizer = WordNetLemmatizer()\n",
    "\n",
    "def lemmatization(tokenized_text):\n",
    "  text= [lemmatizer.lemmatize(word, get_wordnet_pos(word)) for word in nltk.word_tokenize(tokenized_text)]\n",
    "  return text\n",
    "\n",
    "df1['body_text_lemmatized'] = df1['clean'].apply(lambda x: lemmatization(x))"
   ]
  },
  {
   "cell_type": "code",
   "execution_count": null,
   "metadata": {
    "id": "IIzx3uGjTIRT"
   },
   "outputs": [],
   "source": [
    "def tok(text):\n",
    "    t= re.split('\\W+',text)\n",
    "    return t\n",
    "\n",
    "df1['clean1']=df1['reviewText'].apply(lambda x: tok(x.lower()))\n",
    "\n",
    "stopword=nltk.corpus.stopwords.words('english')\n",
    "def stopp(text):\n",
    "    t= [word for word in text if word not in stopword]\n",
    "    return t\n",
    "\n",
    "df1['cleanest']=df1['body_text_lemmatized'].apply(lambda x: stopp(x))"
   ]
  },
  {
   "cell_type": "code",
   "execution_count": null,
   "metadata": {
    "colab": {
     "base_uri": "https://localhost:8080/",
     "height": 272
    },
    "id": "vA8j7mSKTIRU",
    "outputId": "bc0afd18-e319-453f-a086-75058844a4b0"
   },
   "outputs": [
    {
     "data": {
      "text/html": [
       "<div>\n",
       "<style scoped>\n",
       "    .dataframe tbody tr th:only-of-type {\n",
       "        vertical-align: middle;\n",
       "    }\n",
       "\n",
       "    .dataframe tbody tr th {\n",
       "        vertical-align: top;\n",
       "    }\n",
       "\n",
       "    .dataframe thead th {\n",
       "        text-align: right;\n",
       "    }\n",
       "</style>\n",
       "<table border=\"1\" class=\"dataframe\">\n",
       "  <thead>\n",
       "    <tr style=\"text-align: right;\">\n",
       "      <th></th>\n",
       "      <th>overall</th>\n",
       "      <th>reviewText</th>\n",
       "      <th>clean</th>\n",
       "      <th>body_text_lemmatized</th>\n",
       "      <th>clean1</th>\n",
       "      <th>cleanest</th>\n",
       "    </tr>\n",
       "  </thead>\n",
       "  <tbody>\n",
       "    <tr>\n",
       "      <th>0</th>\n",
       "      <td>2</td>\n",
       "      <td>Tech support is the worst</td>\n",
       "      <td>Tech support is the worst</td>\n",
       "      <td>[Tech, support, be, the, bad]</td>\n",
       "      <td>[tech, support, is, the, worst]</td>\n",
       "      <td>[Tech, support, bad]</td>\n",
       "    </tr>\n",
       "    <tr>\n",
       "      <th>1</th>\n",
       "      <td>2</td>\n",
       "      <td>Screws were missing from the bracket and beaut...</td>\n",
       "      <td>Screws were missing from the bracket and beaut...</td>\n",
       "      <td>[Screws, be, miss, from, the, bracket, and, be...</td>\n",
       "      <td>[screws, were, missing, from, the, bracket, an...</td>\n",
       "      <td>[Screws, miss, bracket, beauty, dish, within, ...</td>\n",
       "    </tr>\n",
       "    <tr>\n",
       "      <th>2</th>\n",
       "      <td>1</td>\n",
       "      <td>Trouble connecting and staying connected via b...</td>\n",
       "      <td>Trouble connecting and staying connected via b...</td>\n",
       "      <td>[Trouble, connect, and, stay, connect, via, bl...</td>\n",
       "      <td>[trouble, connecting, and, staying, connected,...</td>\n",
       "      <td>[Trouble, connect, stay, connect, via, bluetooth]</td>\n",
       "    </tr>\n",
       "    <tr>\n",
       "      <th>3</th>\n",
       "      <td>4</td>\n",
       "      <td>I purchased this unit for our RV to replace an...</td>\n",
       "      <td>I purchased this unit for our RV to replace an...</td>\n",
       "      <td>[I, purchase, this, unit, for, our, RV, to, re...</td>\n",
       "      <td>[i, purchased, this, unit, for, our, rv, to, r...</td>\n",
       "      <td>[I, purchase, unit, RV, replace, old, AMFMCass...</td>\n",
       "    </tr>\n",
       "    <tr>\n",
       "      <th>4</th>\n",
       "      <td>3</td>\n",
       "      <td>It works.  Nuff said but the review requires 1...</td>\n",
       "      <td>It works  Nuff said but the review requires 16...</td>\n",
       "      <td>[It, work, Nuff, say, but, the, review, requir...</td>\n",
       "      <td>[it, works, nuff, said, but, the, review, requ...</td>\n",
       "      <td>[It, work, Nuff, say, review, require, 16, wor...</td>\n",
       "    </tr>\n",
       "  </tbody>\n",
       "</table>\n",
       "</div>"
      ],
      "text/plain": [
       "  overall  ...                                           cleanest\n",
       "0       2  ...                               [Tech, support, bad]\n",
       "1       2  ...  [Screws, miss, bracket, beauty, dish, within, ...\n",
       "2       1  ...  [Trouble, connect, stay, connect, via, bluetooth]\n",
       "3       4  ...  [I, purchase, unit, RV, replace, old, AMFMCass...\n",
       "4       3  ...  [It, work, Nuff, say, review, require, 16, wor...\n",
       "\n",
       "[5 rows x 6 columns]"
      ]
     },
     "execution_count": 72,
     "metadata": {},
     "output_type": "execute_result"
    }
   ],
   "source": [
    "df1.head()"
   ]
  },
  {
   "cell_type": "code",
   "execution_count": null,
   "metadata": {
    "id": "nsIh0iZ7TIRU"
   },
   "outputs": [],
   "source": [
    "ps = nltk.PorterStemmer()"
   ]
  },
  {
   "cell_type": "code",
   "execution_count": null,
   "metadata": {
    "id": "z-QtFPToTIRU"
   },
   "outputs": [],
   "source": [
    "def stemming(tokenized_text):\n",
    "    text = [ps.stem(word) for word in tokenized_text]\n",
    "    return text\n",
    "\n",
    "df1['body_text_stemmed'] = df1['cleanest'].apply(lambda x: stemming(x))"
   ]
  },
  {
   "cell_type": "code",
   "execution_count": null,
   "metadata": {
    "id": "wCaf1i_oTSq5"
   },
   "outputs": [],
   "source": []
  },
  {
   "cell_type": "code",
   "execution_count": null,
   "metadata": {
    "colab": {
     "base_uri": "https://localhost:8080/",
     "height": 289
    },
    "id": "NdTQWuWXTIRV",
    "outputId": "5481bc76-b16f-4568-a405-41bf3bcc1507"
   },
   "outputs": [
    {
     "data": {
      "text/html": [
       "<div>\n",
       "<style scoped>\n",
       "    .dataframe tbody tr th:only-of-type {\n",
       "        vertical-align: middle;\n",
       "    }\n",
       "\n",
       "    .dataframe tbody tr th {\n",
       "        vertical-align: top;\n",
       "    }\n",
       "\n",
       "    .dataframe thead th {\n",
       "        text-align: right;\n",
       "    }\n",
       "</style>\n",
       "<table border=\"1\" class=\"dataframe\">\n",
       "  <thead>\n",
       "    <tr style=\"text-align: right;\">\n",
       "      <th></th>\n",
       "      <th>overall</th>\n",
       "      <th>reviewText</th>\n",
       "      <th>clean</th>\n",
       "      <th>body_text_lemmatized</th>\n",
       "      <th>clean1</th>\n",
       "      <th>cleanest</th>\n",
       "      <th>body_text_stemmed</th>\n",
       "    </tr>\n",
       "  </thead>\n",
       "  <tbody>\n",
       "    <tr>\n",
       "      <th>0</th>\n",
       "      <td>2</td>\n",
       "      <td>Tech support is the worst</td>\n",
       "      <td>Tech support is the worst</td>\n",
       "      <td>[Tech, support, be, the, bad]</td>\n",
       "      <td>[tech, support, is, the, worst]</td>\n",
       "      <td>[Tech, support, bad]</td>\n",
       "      <td>[tech, support, bad]</td>\n",
       "    </tr>\n",
       "    <tr>\n",
       "      <th>1</th>\n",
       "      <td>2</td>\n",
       "      <td>Screws were missing from the bracket and beaut...</td>\n",
       "      <td>Screws were missing from the bracket and beaut...</td>\n",
       "      <td>[Screws, be, miss, from, the, bracket, and, be...</td>\n",
       "      <td>[screws, were, missing, from, the, bracket, an...</td>\n",
       "      <td>[Screws, miss, bracket, beauty, dish, within, ...</td>\n",
       "      <td>[screw, miss, bracket, beauti, dish, within, w...</td>\n",
       "    </tr>\n",
       "    <tr>\n",
       "      <th>2</th>\n",
       "      <td>1</td>\n",
       "      <td>Trouble connecting and staying connected via b...</td>\n",
       "      <td>Trouble connecting and staying connected via b...</td>\n",
       "      <td>[Trouble, connect, and, stay, connect, via, bl...</td>\n",
       "      <td>[trouble, connecting, and, staying, connected,...</td>\n",
       "      <td>[Trouble, connect, stay, connect, via, bluetooth]</td>\n",
       "      <td>[troubl, connect, stay, connect, via, bluetooth]</td>\n",
       "    </tr>\n",
       "    <tr>\n",
       "      <th>3</th>\n",
       "      <td>4</td>\n",
       "      <td>I purchased this unit for our RV to replace an...</td>\n",
       "      <td>I purchased this unit for our RV to replace an...</td>\n",
       "      <td>[I, purchase, this, unit, for, our, RV, to, re...</td>\n",
       "      <td>[i, purchased, this, unit, for, our, rv, to, r...</td>\n",
       "      <td>[I, purchase, unit, RV, replace, old, AMFMCass...</td>\n",
       "      <td>[I, purchas, unit, RV, replac, old, amfmcasset...</td>\n",
       "    </tr>\n",
       "    <tr>\n",
       "      <th>4</th>\n",
       "      <td>3</td>\n",
       "      <td>It works.  Nuff said but the review requires 1...</td>\n",
       "      <td>It works  Nuff said but the review requires 16...</td>\n",
       "      <td>[It, work, Nuff, say, but, the, review, requir...</td>\n",
       "      <td>[it, works, nuff, said, but, the, review, requ...</td>\n",
       "      <td>[It, work, Nuff, say, review, require, 16, wor...</td>\n",
       "      <td>[It, work, nuff, say, review, requir, 16, word...</td>\n",
       "    </tr>\n",
       "  </tbody>\n",
       "</table>\n",
       "</div>"
      ],
      "text/plain": [
       "  overall  ...                                  body_text_stemmed\n",
       "0       2  ...                               [tech, support, bad]\n",
       "1       2  ...  [screw, miss, bracket, beauti, dish, within, w...\n",
       "2       1  ...   [troubl, connect, stay, connect, via, bluetooth]\n",
       "3       4  ...  [I, purchas, unit, RV, replac, old, amfmcasset...\n",
       "4       3  ...  [It, work, nuff, say, review, requir, 16, word...\n",
       "\n",
       "[5 rows x 7 columns]"
      ]
     },
     "execution_count": 75,
     "metadata": {},
     "output_type": "execute_result"
    }
   ],
   "source": [
    "df1.head()"
   ]
  },
  {
   "cell_type": "code",
   "execution_count": null,
   "metadata": {
    "id": "X9rLGmK9TIRV"
   },
   "outputs": [],
   "source": [
    "sentiment = {'1': 0,\n",
    "            '2': 0,\n",
    "            '3': 0,\n",
    "            '4': 1,\n",
    "            '5': 1}\n",
    "\n",
    "df1[\"sentiment\"] = df1[\"overall\"].map(sentiment)"
   ]
  },
  {
   "cell_type": "code",
   "execution_count": null,
   "metadata": {
    "colab": {
     "base_uri": "https://localhost:8080/",
     "height": 357
    },
    "id": "hq9s8qsPTIRV",
    "outputId": "15602f6b-f836-4a5f-8c96-4c867d8bbb15"
   },
   "outputs": [
    {
     "data": {
      "text/html": [
       "<div>\n",
       "<style scoped>\n",
       "    .dataframe tbody tr th:only-of-type {\n",
       "        vertical-align: middle;\n",
       "    }\n",
       "\n",
       "    .dataframe tbody tr th {\n",
       "        vertical-align: top;\n",
       "    }\n",
       "\n",
       "    .dataframe thead th {\n",
       "        text-align: right;\n",
       "    }\n",
       "</style>\n",
       "<table border=\"1\" class=\"dataframe\">\n",
       "  <thead>\n",
       "    <tr style=\"text-align: right;\">\n",
       "      <th></th>\n",
       "      <th>overall</th>\n",
       "      <th>reviewText</th>\n",
       "      <th>clean</th>\n",
       "      <th>body_text_lemmatized</th>\n",
       "      <th>clean1</th>\n",
       "      <th>cleanest</th>\n",
       "      <th>body_text_stemmed</th>\n",
       "      <th>sentiment</th>\n",
       "    </tr>\n",
       "  </thead>\n",
       "  <tbody>\n",
       "    <tr>\n",
       "      <th>0</th>\n",
       "      <td>2</td>\n",
       "      <td>Tech support is the worst</td>\n",
       "      <td>Tech support is the worst</td>\n",
       "      <td>[Tech, support, be, the, bad]</td>\n",
       "      <td>[tech, support, is, the, worst]</td>\n",
       "      <td>[Tech, support, bad]</td>\n",
       "      <td>[tech, support, bad]</td>\n",
       "      <td>0</td>\n",
       "    </tr>\n",
       "    <tr>\n",
       "      <th>1</th>\n",
       "      <td>2</td>\n",
       "      <td>Screws were missing from the bracket and beaut...</td>\n",
       "      <td>Screws were missing from the bracket and beaut...</td>\n",
       "      <td>[Screws, be, miss, from, the, bracket, and, be...</td>\n",
       "      <td>[screws, were, missing, from, the, bracket, an...</td>\n",
       "      <td>[Screws, miss, bracket, beauty, dish, within, ...</td>\n",
       "      <td>[screw, miss, bracket, beauti, dish, within, w...</td>\n",
       "      <td>0</td>\n",
       "    </tr>\n",
       "    <tr>\n",
       "      <th>2</th>\n",
       "      <td>1</td>\n",
       "      <td>Trouble connecting and staying connected via b...</td>\n",
       "      <td>Trouble connecting and staying connected via b...</td>\n",
       "      <td>[Trouble, connect, and, stay, connect, via, bl...</td>\n",
       "      <td>[trouble, connecting, and, staying, connected,...</td>\n",
       "      <td>[Trouble, connect, stay, connect, via, bluetooth]</td>\n",
       "      <td>[troubl, connect, stay, connect, via, bluetooth]</td>\n",
       "      <td>0</td>\n",
       "    </tr>\n",
       "    <tr>\n",
       "      <th>3</th>\n",
       "      <td>4</td>\n",
       "      <td>I purchased this unit for our RV to replace an...</td>\n",
       "      <td>I purchased this unit for our RV to replace an...</td>\n",
       "      <td>[I, purchase, this, unit, for, our, RV, to, re...</td>\n",
       "      <td>[i, purchased, this, unit, for, our, rv, to, r...</td>\n",
       "      <td>[I, purchase, unit, RV, replace, old, AMFMCass...</td>\n",
       "      <td>[I, purchas, unit, RV, replac, old, amfmcasset...</td>\n",
       "      <td>1</td>\n",
       "    </tr>\n",
       "    <tr>\n",
       "      <th>4</th>\n",
       "      <td>3</td>\n",
       "      <td>It works.  Nuff said but the review requires 1...</td>\n",
       "      <td>It works  Nuff said but the review requires 16...</td>\n",
       "      <td>[It, work, Nuff, say, but, the, review, requir...</td>\n",
       "      <td>[it, works, nuff, said, but, the, review, requ...</td>\n",
       "      <td>[It, work, Nuff, say, review, require, 16, wor...</td>\n",
       "      <td>[It, work, nuff, say, review, requir, 16, word...</td>\n",
       "      <td>0</td>\n",
       "    </tr>\n",
       "  </tbody>\n",
       "</table>\n",
       "</div>"
      ],
      "text/plain": [
       "  overall  ... sentiment\n",
       "0       2  ...         0\n",
       "1       2  ...         0\n",
       "2       1  ...         0\n",
       "3       4  ...         1\n",
       "4       3  ...         0\n",
       "\n",
       "[5 rows x 8 columns]"
      ]
     },
     "execution_count": 77,
     "metadata": {},
     "output_type": "execute_result"
    }
   ],
   "source": [
    "df1.head()"
   ]
  },
  {
   "cell_type": "code",
   "execution_count": null,
   "metadata": {
    "id": "NCL6BMQsTIRV"
   },
   "outputs": [],
   "source": [
    "df2=df1[['overall','cleanest','sentiment']]"
   ]
  },
  {
   "cell_type": "code",
   "execution_count": null,
   "metadata": {
    "colab": {
     "base_uri": "https://localhost:8080/",
     "height": 35
    },
    "id": "aWWy7LDKTIRW",
    "outputId": "c6535aaf-0fda-4125-dd0e-965d830b1ae5"
   },
   "outputs": [
    {
     "data": {
      "application/vnd.google.colaboratory.intrinsic+json": {
       "type": "string"
      },
      "text/plain": [
       "'!\"#$%&\\'()*+,-./:;<=>?@[\\\\]^_`{|}~'"
      ]
     },
     "execution_count": 79,
     "metadata": {},
     "output_type": "execute_result"
    }
   ],
   "source": [
    "import string\n",
    "string.punctuation\n",
    "    "
   ]
  },
  {
   "cell_type": "code",
   "execution_count": null,
   "metadata": {
    "colab": {
     "base_uri": "https://localhost:8080/",
     "height": 204
    },
    "id": "xwukghG1TIRW",
    "outputId": "4c25350d-f6e9-4de0-f0c2-e6ba2236689e"
   },
   "outputs": [
    {
     "data": {
      "text/html": [
       "<div>\n",
       "<style scoped>\n",
       "    .dataframe tbody tr th:only-of-type {\n",
       "        vertical-align: middle;\n",
       "    }\n",
       "\n",
       "    .dataframe tbody tr th {\n",
       "        vertical-align: top;\n",
       "    }\n",
       "\n",
       "    .dataframe thead th {\n",
       "        text-align: right;\n",
       "    }\n",
       "</style>\n",
       "<table border=\"1\" class=\"dataframe\">\n",
       "  <thead>\n",
       "    <tr style=\"text-align: right;\">\n",
       "      <th></th>\n",
       "      <th>overall</th>\n",
       "      <th>cleanest</th>\n",
       "      <th>sentiment</th>\n",
       "      <th>body_text_lemmatized_1</th>\n",
       "    </tr>\n",
       "  </thead>\n",
       "  <tbody>\n",
       "    <tr>\n",
       "      <th>0</th>\n",
       "      <td>2</td>\n",
       "      <td>[Tech, support, bad]</td>\n",
       "      <td>0</td>\n",
       "      <td>Tech support bad</td>\n",
       "    </tr>\n",
       "    <tr>\n",
       "      <th>1</th>\n",
       "      <td>2</td>\n",
       "      <td>[Screws, miss, bracket, beauty, dish, within, ...</td>\n",
       "      <td>0</td>\n",
       "      <td>Screws miss bracket beauty dish within week Sp...</td>\n",
       "    </tr>\n",
       "    <tr>\n",
       "      <th>2</th>\n",
       "      <td>1</td>\n",
       "      <td>[Trouble, connect, stay, connect, via, bluetooth]</td>\n",
       "      <td>0</td>\n",
       "      <td>Trouble connect stay connect via bluetooth</td>\n",
       "    </tr>\n",
       "    <tr>\n",
       "      <th>3</th>\n",
       "      <td>4</td>\n",
       "      <td>[I, purchase, unit, RV, replace, old, AMFMCass...</td>\n",
       "      <td>1</td>\n",
       "      <td>I purchase unit RV replace old AMFMCassette Ta...</td>\n",
       "    </tr>\n",
       "    <tr>\n",
       "      <th>4</th>\n",
       "      <td>3</td>\n",
       "      <td>[It, work, Nuff, say, review, require, 16, wor...</td>\n",
       "      <td>0</td>\n",
       "      <td>It work Nuff say review require 16 word 9 word...</td>\n",
       "    </tr>\n",
       "  </tbody>\n",
       "</table>\n",
       "</div>"
      ],
      "text/plain": [
       "  overall  ...                             body_text_lemmatized_1\n",
       "0       2  ...                                   Tech support bad\n",
       "1       2  ...  Screws miss bracket beauty dish within week Sp...\n",
       "2       1  ...         Trouble connect stay connect via bluetooth\n",
       "3       4  ...  I purchase unit RV replace old AMFMCassette Ta...\n",
       "4       3  ...  It work Nuff say review require 16 word 9 word...\n",
       "\n",
       "[5 rows x 4 columns]"
      ]
     },
     "execution_count": 80,
     "metadata": {},
     "output_type": "execute_result"
    }
   ],
   "source": [
    "def remove_punct(text):\n",
    "    text_nopunct = \" \".join([char for char in text if char not in string.punctuation])\n",
    "    return text_nopunct\n",
    "    \n",
    "\n",
    "df2['body_text_lemmatized_1'] = df2['cleanest'].apply(lambda x: remove_punct(x))\n",
    "\n",
    "df2.head()"
   ]
  },
  {
   "cell_type": "code",
   "execution_count": null,
   "metadata": {
    "id": "2KD9f4r3HUN0"
   },
   "outputs": [],
   "source": [
    "df2['body_text_lemmatized_1']=df2['body_text_lemmatized_1'].str.lower()"
   ]
  },
  {
   "cell_type": "code",
   "execution_count": null,
   "metadata": {
    "colab": {
     "base_uri": "https://localhost:8080/",
     "height": 204
    },
    "id": "1H3Pq1oeHmaf",
    "outputId": "19466a04-492d-4303-8b75-cda818e71a94"
   },
   "outputs": [
    {
     "data": {
      "text/html": [
       "<div>\n",
       "<style scoped>\n",
       "    .dataframe tbody tr th:only-of-type {\n",
       "        vertical-align: middle;\n",
       "    }\n",
       "\n",
       "    .dataframe tbody tr th {\n",
       "        vertical-align: top;\n",
       "    }\n",
       "\n",
       "    .dataframe thead th {\n",
       "        text-align: right;\n",
       "    }\n",
       "</style>\n",
       "<table border=\"1\" class=\"dataframe\">\n",
       "  <thead>\n",
       "    <tr style=\"text-align: right;\">\n",
       "      <th></th>\n",
       "      <th>overall</th>\n",
       "      <th>cleanest</th>\n",
       "      <th>sentiment</th>\n",
       "      <th>body_text_lemmatized_1</th>\n",
       "    </tr>\n",
       "  </thead>\n",
       "  <tbody>\n",
       "    <tr>\n",
       "      <th>0</th>\n",
       "      <td>2</td>\n",
       "      <td>[Tech, support, bad]</td>\n",
       "      <td>0</td>\n",
       "      <td>tech support bad</td>\n",
       "    </tr>\n",
       "    <tr>\n",
       "      <th>1</th>\n",
       "      <td>2</td>\n",
       "      <td>[Screws, miss, bracket, beauty, dish, within, ...</td>\n",
       "      <td>0</td>\n",
       "      <td>screws miss bracket beauty dish within week sp...</td>\n",
       "    </tr>\n",
       "    <tr>\n",
       "      <th>2</th>\n",
       "      <td>1</td>\n",
       "      <td>[Trouble, connect, stay, connect, via, bluetooth]</td>\n",
       "      <td>0</td>\n",
       "      <td>trouble connect stay connect via bluetooth</td>\n",
       "    </tr>\n",
       "    <tr>\n",
       "      <th>3</th>\n",
       "      <td>4</td>\n",
       "      <td>[I, purchase, unit, RV, replace, old, AMFMCass...</td>\n",
       "      <td>1</td>\n",
       "      <td>i purchase unit rv replace old amfmcassette ta...</td>\n",
       "    </tr>\n",
       "    <tr>\n",
       "      <th>4</th>\n",
       "      <td>3</td>\n",
       "      <td>[It, work, Nuff, say, review, require, 16, wor...</td>\n",
       "      <td>0</td>\n",
       "      <td>it work nuff say review require 16 word 9 word...</td>\n",
       "    </tr>\n",
       "  </tbody>\n",
       "</table>\n",
       "</div>"
      ],
      "text/plain": [
       "  overall  ...                             body_text_lemmatized_1\n",
       "0       2  ...                                   tech support bad\n",
       "1       2  ...  screws miss bracket beauty dish within week sp...\n",
       "2       1  ...         trouble connect stay connect via bluetooth\n",
       "3       4  ...  i purchase unit rv replace old amfmcassette ta...\n",
       "4       3  ...  it work nuff say review require 16 word 9 word...\n",
       "\n",
       "[5 rows x 4 columns]"
      ]
     },
     "execution_count": 82,
     "metadata": {},
     "output_type": "execute_result"
    }
   ],
   "source": [
    "df2.head()"
   ]
  },
  {
   "cell_type": "code",
   "execution_count": null,
   "metadata": {
    "id": "DTpX6Gh7TIRW"
   },
   "outputs": [],
   "source": [
    "from sklearn.feature_extraction.text import TfidfVectorizer\n",
    "\n",
    "\n",
    "vectorizer =TfidfVectorizer()\n",
    "text = vectorizer.fit_transform(df2[\"body_text_lemmatized_1\"])"
   ]
  },
  {
   "cell_type": "code",
   "execution_count": null,
   "metadata": {
    "colab": {
     "base_uri": "https://localhost:8080/"
    },
    "id": "PDtKhoE5TIRX",
    "outputId": "dca64fb5-926a-4596-ec09-0ced8be05b9a"
   },
   "outputs": [
    {
     "name": "stdout",
     "output_type": "stream",
     "text": [
      "(19808, 23273)\n"
     ]
    }
   ],
   "source": [
    "print(text.shape)"
   ]
  },
  {
   "cell_type": "code",
   "execution_count": null,
   "metadata": {
    "colab": {
     "base_uri": "https://localhost:8080/"
    },
    "id": "uAAS4fg4TIRX",
    "outputId": "2bbc79e6-490e-443b-ced7-5548e9da9e60"
   },
   "outputs": [
    {
     "name": "stdout",
     "output_type": "stream",
     "text": [
      "  (0, 3440)\t0.48765311070684325\n",
      "  (0, 19911)\t0.5607376051876963\n",
      "  (0, 20254)\t0.6691545275542166\n",
      "  (1, 22486)\t0.14546106524347874\n",
      "  (1, 13757)\t0.18400833970009872\n",
      "  (1, 9353)\t0.14393740000093713\n",
      "  (1, 12425)\t0.19107072178652443\n",
      "  (1, 19262)\t0.27639039058613163\n",
      "  (1, 22466)\t0.2280573547513271\n",
      "  (1, 22745)\t0.2611570439755271\n",
      "  (1, 6911)\t0.39089650205539717\n",
      "  (1, 3653)\t0.3977299619396324\n",
      "  (1, 4137)\t0.3288521567920127\n",
      "  (1, 13437)\t0.2746847536493153\n",
      "  (1, 18118)\t0.44335826826127817\n",
      "  (2, 3971)\t0.3679784987786032\n",
      "  (2, 22054)\t0.41236937829150383\n",
      "  (2, 19511)\t0.3535054647984052\n",
      "  (2, 5613)\t0.6386711575111215\n",
      "  (2, 21048)\t0.40208998893928194\n",
      "  (3, 6591)\t0.0672254695455064\n",
      "  (3, 7594)\t0.08627469346902263\n",
      "  (3, 3920)\t0.12963589546644047\n",
      "  (3, 22816)\t0.03753162688185774\n",
      "  (3, 2406)\t0.12963589546644047\n",
      "  :\t:\n",
      "  (19801, 20445)\t0.2643727184192106\n",
      "  (19801, 20512)\t0.18147868603779166\n",
      "  (19801, 16135)\t0.19449481176270994\n",
      "  (19801, 14702)\t0.16219214537991739\n",
      "  (19801, 10860)\t0.2159944972857971\n",
      "  (19801, 18390)\t0.27361134242412605\n",
      "  (19802, 5285)\t0.872624134804081\n",
      "  (19802, 6765)\t0.4883923825751475\n",
      "  (19803, 6265)\t0.6731841820082531\n",
      "  (19803, 12220)\t0.33691270387073197\n",
      "  (19803, 21808)\t0.3958407630158461\n",
      "  (19803, 17230)\t0.5259495958734302\n",
      "  (19804, 19461)\t0.8165554113753314\n",
      "  (19804, 14702)\t0.5772670613794478\n",
      "  (19805, 6390)\t0.6608384093419005\n",
      "  (19805, 4489)\t0.5106110796767789\n",
      "  (19805, 13569)\t0.5500626528403662\n",
      "  (19806, 7283)\t0.4615045625870344\n",
      "  (19806, 16849)\t0.5504865005045912\n",
      "  (19806, 16345)\t0.49376298638772037\n",
      "  (19806, 14647)\t0.3837502427646774\n",
      "  (19806, 16135)\t0.3048147239309308\n",
      "  (19807, 4967)\t0.7472283677845817\n",
      "  (19807, 9625)\t0.4972218756700812\n",
      "  (19807, 22816)\t0.440931029451451\n"
     ]
    }
   ],
   "source": [
    "print(text)"
   ]
  },
  {
   "cell_type": "code",
   "execution_count": null,
   "metadata": {
    "id": "l3PcPolYTIRX"
   },
   "outputs": [],
   "source": [
    "from sklearn.model_selection import train_test_split\n",
    "\n",
    "x_train, x_test, y_train, y_test = train_test_split(text, df2[\"sentiment\"], test_size=0.2, random_state=42)"
   ]
  },
  {
   "cell_type": "code",
   "execution_count": null,
   "metadata": {
    "id": "PaYQivRgTIRX"
   },
   "outputs": [],
   "source": [
    "from sklearn.linear_model import LogisticRegression\n",
    "classifier = LogisticRegression(solver='liblinear', random_state=1)\n",
    "classifier.fit(x_train, y_train)\n",
    "y_pred = classifier.predict(x_test)\n",
    "y_pred_tr = classifier.predict(x_train)"
   ]
  },
  {
   "cell_type": "code",
   "execution_count": null,
   "metadata": {
    "colab": {
     "base_uri": "https://localhost:8080/"
    },
    "id": "racYk4dFTIRX",
    "outputId": "efda9be3-da0e-4c96-be0e-1f8ac0481c40"
   },
   "outputs": [
    {
     "name": "stdout",
     "output_type": "stream",
     "text": [
      "Test accuracy 0.8023725391216557\n",
      "Train accuracy 0.8545374226934243\n"
     ]
    }
   ],
   "source": [
    "print('Test accuracy', sum(y_test == y_pred)/len(y_test))\n",
    "print('Train accuracy', sum(y_train == y_pred_tr)/len(y_train))"
   ]
  },
  {
   "cell_type": "code",
   "execution_count": null,
   "metadata": {
    "colab": {
     "base_uri": "https://localhost:8080/"
    },
    "id": "onM2xL2oTIRY",
    "outputId": "8f29f68b-9e0f-4162-b13d-8a1969124492"
   },
   "outputs": [
    {
     "name": "stdout",
     "output_type": "stream",
     "text": [
      "Classification Report(Train)\n",
      "              precision    recall  f1-score   support\n",
      "\n",
      "           0       0.85      0.92      0.88      9460\n",
      "           1       0.87      0.76      0.81      6386\n",
      "\n",
      "    accuracy                           0.85     15846\n",
      "   macro avg       0.86      0.84      0.85     15846\n",
      "weighted avg       0.86      0.85      0.85     15846\n",
      "\n",
      "Classification Report(Test)\n",
      "              precision    recall  f1-score   support\n",
      "\n",
      "           0       0.80      0.89      0.84      2360\n",
      "           1       0.81      0.67      0.73      1602\n",
      "\n",
      "    accuracy                           0.80      3962\n",
      "   macro avg       0.80      0.78      0.79      3962\n",
      "weighted avg       0.80      0.80      0.80      3962\n",
      "\n"
     ]
    }
   ],
   "source": [
    "from sklearn.metrics import classification_report\n",
    "print(\"Classification Report(Train)\")\n",
    "print(classification_report(y_train, y_pred_tr))\n",
    "print(\"Classification Report(Test)\")\n",
    "print(classification_report(y_test, y_pred))"
   ]
  },
  {
   "cell_type": "code",
   "execution_count": null,
   "metadata": {
    "id": "JP8AEYgLfX3i"
   },
   "outputs": [],
   "source": [
    "import pickle\n",
    "pickl= {'vectorizer':vectorizer, 'model': classifier}\n",
    "with open(\"logistic_regression.p\", \"wb\") as f:\n",
    "    pickle.dump(pickl, f)"
   ]
  },
  {
   "cell_type": "code",
   "execution_count": null,
   "metadata": {
    "colab": {
     "base_uri": "https://localhost:8080/"
    },
    "id": "usRA-mghGoVV",
    "outputId": "12712510-b89c-45c0-cacb-585447fcdc3a"
   },
   "outputs": [
    {
     "name": "stdout",
     "output_type": "stream",
     "text": [
      "Classification Report(Train)\n",
      "              precision    recall  f1-score   support\n",
      "\n",
      "           0       0.83      0.92      0.88      9460\n",
      "           1       0.86      0.73      0.79      6386\n",
      "\n",
      "    accuracy                           0.84     15846\n",
      "   macro avg       0.85      0.82      0.83     15846\n",
      "weighted avg       0.85      0.84      0.84     15846\n",
      "\n",
      "Classification Report(Test)\n",
      "              precision    recall  f1-score   support\n",
      "\n",
      "           0       0.80      0.89      0.84      2360\n",
      "           1       0.81      0.67      0.73      1602\n",
      "\n",
      "    accuracy                           0.80      3962\n",
      "   macro avg       0.80      0.78      0.79      3962\n",
      "weighted avg       0.80      0.80      0.80      3962\n",
      "\n"
     ]
    }
   ],
   "source": [
    "from sklearn.svm import LinearSVC\n",
    "from sklearn.metrics import classification_report\n",
    "from sklearn.metrics import accuracy_score\n",
    "svm = LinearSVC(C=0.075)\n",
    "svm.fit(x_train,y_train)\n",
    "y_pred_tr = svm.predict(x_train)\n",
    "print(\"Classification Report(Train)\")\n",
    "print(classification_report(y_train, y_pred_tr))\n",
    "print(\"Classification Report(Test)\")\n",
    "print(classification_report(y_test, y_pred))"
   ]
  },
  {
   "cell_type": "code",
   "execution_count": null,
   "metadata": {
    "id": "qtSjXf2ifo1R"
   },
   "outputs": [],
   "source": [
    "import pickle\n",
    "pickl= {'vectorizer':vectorizer, 'model': svm}\n",
    "with open(\"svm.p\", \"wb\") as f:\n",
    "    pickle.dump(pickl, f)"
   ]
  },
  {
   "cell_type": "code",
   "execution_count": null,
   "metadata": {
    "colab": {
     "base_uri": "https://localhost:8080/"
    },
    "id": "Q8_4YFOwGoYL",
    "outputId": "b3f67e0c-9078-4892-ef72-56b56ea7f3ea"
   },
   "outputs": [
    {
     "name": "stdout",
     "output_type": "stream",
     "text": [
      "Classification Report(Train)\n",
      "              precision    recall  f1-score   support\n",
      "\n",
      "           0       0.81      0.93      0.87      9460\n",
      "           1       0.87      0.68      0.76      6386\n",
      "\n",
      "    accuracy                           0.83     15846\n",
      "   macro avg       0.84      0.81      0.82     15846\n",
      "weighted avg       0.83      0.83      0.83     15846\n",
      "\n",
      "Classification Report(Test)\n",
      "              precision    recall  f1-score   support\n",
      "\n",
      "           0       0.77      0.91      0.84      2360\n",
      "           1       0.83      0.60      0.70      1602\n",
      "\n",
      "    accuracy                           0.79      3962\n",
      "   macro avg       0.80      0.76      0.77      3962\n",
      "weighted avg       0.79      0.79      0.78      3962\n",
      "\n"
     ]
    }
   ],
   "source": [
    "from sklearn.ensemble import RandomForestClassifier\n",
    "classifier = RandomForestClassifier(min_samples_leaf=5)\n",
    "classifier.fit(x_train, y_train)\n",
    "y_pred = classifier.predict(x_test)\n",
    "y_pred_tr = classifier.predict(x_train)\n",
    "from sklearn.metrics import classification_report\n",
    "print(\"Classification Report(Train)\")\n",
    "print(classification_report(y_train, y_pred_tr))\n",
    "print(\"Classification Report(Test)\")\n",
    "print(classification_report(y_test, y_pred))"
   ]
  },
  {
   "cell_type": "code",
   "execution_count": null,
   "metadata": {
    "id": "fuiXv0C1fxEg"
   },
   "outputs": [],
   "source": [
    "import pickle\n",
    "pickl= {'vectorizer':vectorizer, 'model': classifier}\n",
    "with open(\"randomforest.p\", \"wb\") as f:\n",
    "    pickle.dump(pickl, f)"
   ]
  }
 ],
 "metadata": {
  "colab": {
   "collapsed_sections": [],
   "provenance": []
  },
  "kernelspec": {
   "display_name": "Python 3 (ipykernel)",
   "language": "python",
   "name": "python3"
  },
  "language_info": {
   "codemirror_mode": {
    "name": "ipython",
    "version": 3
   },
   "file_extension": ".py",
   "mimetype": "text/x-python",
   "name": "python",
   "nbconvert_exporter": "python",
   "pygments_lexer": "ipython3",
   "version": "3.9.6"
  }
 },
 "nbformat": 4,
 "nbformat_minor": 1
}
